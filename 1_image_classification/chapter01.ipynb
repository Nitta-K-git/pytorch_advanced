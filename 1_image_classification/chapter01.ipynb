{
 "cells": [
  {
   "cell_type": "markdown",
   "id": "9e1ee558-9398-46a9-bfb7-a6bd8e883b58",
   "metadata": {},
   "source": [
    "# Install"
   ]
  },
  {
   "cell_type": "markdown",
   "id": "792c3077-6bba-4520-8e9a-51b4b22ad3da",
   "metadata": {},
   "source": [
    "## PyTorch\n",
    "\n",
    "WSL上にinstallする．\n",
    "GPUをWSLに認識させるためにはWindows11 or Windows10+Preview insiderへの登録が必要で面倒なので，とりあえずCPU版にした\n",
    "```sh\n",
    "$ pip install torch torchvision torchaudio --extra-index-url https://download.pytorch.org/whl/cpu\n",
    "```\n"
   ]
  },
  {
   "cell_type": "markdown",
   "id": "861fdf4b-f5c1-4e47-a6a4-f0f9ce78dcb7",
   "metadata": {},
   "source": [
    "# 画像分類と転移学習(VGG)\n",
    "\n"
   ]
  },
  {
   "cell_type": "markdown",
   "id": "fda72233-f32f-4317-abcf-cb6dc4e373bb",
   "metadata": {
    "tags": []
   },
   "source": [
    "## データのダウンロード"
   ]
  },
  {
   "cell_type": "code",
   "execution_count": 3,
   "id": "ece2fa8c-d990-4eb4-b2c3-e49061fa7809",
   "metadata": {},
   "outputs": [
    {
     "name": "stdout",
     "output_type": "stream",
     "text": [
      "goldenretriever-3724972_640.jpg\n"
     ]
    }
   ],
   "source": [
    "# 一旦ダウンロード済みのもの削除\n",
    "!rm -rf data/hymenoptera_data\n",
    "!rm data/imagenet_class_index.json\n",
    "!ls data"
   ]
  },
  {
   "cell_type": "code",
   "execution_count": 35,
   "id": "ca6c51e5-9482-49b2-9091-da0fde5705b0",
   "metadata": {},
   "outputs": [],
   "source": [
    "from pathlib import Path\n",
    "data_dir = Path(\"./data/\")\n",
    "data_dir.mkdir(parents=True, exist_ok=True)"
   ]
  },
  {
   "cell_type": "markdown",
   "id": "2180e5c1-978e-4745-aeb6-036e8bb84aa7",
   "metadata": {},
   "source": [
    "ImageNetのclass_indexをダウンロードする\n",
    "\n",
    "Kerasで用意されている: \n",
    "https://github.com/fchollet/deep-learning-models/blob/master/imagenet_utils.py#L8"
   ]
  },
  {
   "cell_type": "code",
   "execution_count": 36,
   "id": "7ca96b51-a367-4141-8193-d92282cb7c57",
   "metadata": {},
   "outputs": [],
   "source": [
    "import urllib.error\n",
    "import urllib.request\n",
    "\n",
    "def download_file(url, dst_path):\n",
    "    try:\n",
    "        with urllib.request.urlopen(url) as web_file, open(dst_path, 'wb') as local_file:\n",
    "            local_file.write(web_file.read())\n",
    "    except urllib.error.URLError as e:\n",
    "        print(e)\n",
    "\n",
    "url = \"https://s3.amazonaws.com/deep-learning-models/image-models/imagenet_class_index.json\"\n",
    "save_path = data_dir / \"imagenet_class_index.json\"\n",
    "\n",
    "if save_path.exists() == False:\n",
    "    download_file(url, save_path)"
   ]
  },
  {
   "cell_type": "markdown",
   "id": "7d805e5c-9b04-485b-a412-00b34742c20c",
   "metadata": {},
   "source": [
    "1.3節で使用するアリとハチの画像データをダウンロードし解凍\n",
    "\n",
    "PyTorchのチュートリアルで用意されているもの\n",
    "\n",
    "https://pytorch.org/tutorials/beginner/transfer_learning_tutorial.html#load-data\n"
   ]
  },
  {
   "cell_type": "code",
   "execution_count": 44,
   "id": "c07ace40-06a7-469d-93a5-7114dd1823b8",
   "metadata": {},
   "outputs": [],
   "source": [
    "import zipfile\n",
    "import os\n",
    "\n",
    "url = \"https://download.pytorch.org/tutorial/hymenoptera_data.zip\"\n",
    "save_path = data_dir / \"hymenoptera_data.zip\"\n",
    "\n",
    "if save_path.exists() == False:\n",
    "    download_file(url, save_path)\n",
    "    with zipfile.ZipFile(save_path) as zf:\n",
    "        zf.extractall(data_dir)\n",
    "    os.remove(save_path)"
   ]
  },
  {
   "cell_type": "markdown",
   "id": "99c8cf04-0e20-4358-8102-1d91f4841d40",
   "metadata": {},
   "source": [
    "[ゴールデンリトリバーの画像](https://pixabay.com/ja/photos/goldenretriever-%E7%8A%AC-3724972/)の640×426サイズの画像を手動でダウンロードし、dataディレクトリ直下に置く"
   ]
  },
  {
   "cell_type": "markdown",
   "id": "08c8f4c7-bccf-4b18-a825-676ce1fc1262",
   "metadata": {
    "tags": []
   },
   "source": [
    "## 1-1: 学習済みVGGモデルをそのまま使用する\n",
    "\n",
    "VGG16を使用する"
   ]
  },
  {
   "cell_type": "code",
   "execution_count": 2,
   "id": "ad9b55a3-c4a0-4322-b5aa-d3500ecac38f",
   "metadata": {},
   "outputs": [
    {
     "name": "stdout",
     "output_type": "stream",
     "text": [
      "PyTorch Version:  1.12.1+cpu\n",
      "Torchvision Version:  0.13.1+cpu\n"
     ]
    }
   ],
   "source": [
    "import torch\n",
    "import torchvision\n",
    "\n",
    "print(\"PyTorch Version: \",torch.__version__)\n",
    "print(\"Torchvision Version: \",torchvision.__version__)"
   ]
  },
  {
   "cell_type": "code",
   "execution_count": 3,
   "id": "503ce614-5f9d-4618-b48e-2eac1d2c5fe3",
   "metadata": {},
   "outputs": [
    {
     "name": "stdout",
     "output_type": "stream",
     "text": [
      "VGG(\n",
      "  (features): Sequential(\n",
      "    (0): Conv2d(3, 64, kernel_size=(3, 3), stride=(1, 1), padding=(1, 1))\n",
      "    (1): ReLU(inplace=True)\n",
      "    (2): Conv2d(64, 64, kernel_size=(3, 3), stride=(1, 1), padding=(1, 1))\n",
      "    (3): ReLU(inplace=True)\n",
      "    (4): MaxPool2d(kernel_size=2, stride=2, padding=0, dilation=1, ceil_mode=False)\n",
      "    (5): Conv2d(64, 128, kernel_size=(3, 3), stride=(1, 1), padding=(1, 1))\n",
      "    (6): ReLU(inplace=True)\n",
      "    (7): Conv2d(128, 128, kernel_size=(3, 3), stride=(1, 1), padding=(1, 1))\n",
      "    (8): ReLU(inplace=True)\n",
      "    (9): MaxPool2d(kernel_size=2, stride=2, padding=0, dilation=1, ceil_mode=False)\n",
      "    (10): Conv2d(128, 256, kernel_size=(3, 3), stride=(1, 1), padding=(1, 1))\n",
      "    (11): ReLU(inplace=True)\n",
      "    (12): Conv2d(256, 256, kernel_size=(3, 3), stride=(1, 1), padding=(1, 1))\n",
      "    (13): ReLU(inplace=True)\n",
      "    (14): Conv2d(256, 256, kernel_size=(3, 3), stride=(1, 1), padding=(1, 1))\n",
      "    (15): ReLU(inplace=True)\n",
      "    (16): MaxPool2d(kernel_size=2, stride=2, padding=0, dilation=1, ceil_mode=False)\n",
      "    (17): Conv2d(256, 512, kernel_size=(3, 3), stride=(1, 1), padding=(1, 1))\n",
      "    (18): ReLU(inplace=True)\n",
      "    (19): Conv2d(512, 512, kernel_size=(3, 3), stride=(1, 1), padding=(1, 1))\n",
      "    (20): ReLU(inplace=True)\n",
      "    (21): Conv2d(512, 512, kernel_size=(3, 3), stride=(1, 1), padding=(1, 1))\n",
      "    (22): ReLU(inplace=True)\n",
      "    (23): MaxPool2d(kernel_size=2, stride=2, padding=0, dilation=1, ceil_mode=False)\n",
      "    (24): Conv2d(512, 512, kernel_size=(3, 3), stride=(1, 1), padding=(1, 1))\n",
      "    (25): ReLU(inplace=True)\n",
      "    (26): Conv2d(512, 512, kernel_size=(3, 3), stride=(1, 1), padding=(1, 1))\n",
      "    (27): ReLU(inplace=True)\n",
      "    (28): Conv2d(512, 512, kernel_size=(3, 3), stride=(1, 1), padding=(1, 1))\n",
      "    (29): ReLU(inplace=True)\n",
      "    (30): MaxPool2d(kernel_size=2, stride=2, padding=0, dilation=1, ceil_mode=False)\n",
      "  )\n",
      "  (avgpool): AdaptiveAvgPool2d(output_size=(7, 7))\n",
      "  (classifier): Sequential(\n",
      "    (0): Linear(in_features=25088, out_features=4096, bias=True)\n",
      "    (1): ReLU(inplace=True)\n",
      "    (2): Dropout(p=0.5, inplace=False)\n",
      "    (3): Linear(in_features=4096, out_features=4096, bias=True)\n",
      "    (4): ReLU(inplace=True)\n",
      "    (5): Dropout(p=0.5, inplace=False)\n",
      "    (6): Linear(in_features=4096, out_features=1000, bias=True)\n",
      "  )\n",
      ")\n"
     ]
    }
   ],
   "source": [
    "from torchvision import models\n",
    "\n",
    "weights = models.VGG16_Weights.DEFAULT\n",
    "\n",
    "# net = models.vgg16(pretrained=True)  # このoptionは非推奨になった\n",
    "net = models.vgg16(weights=weights)\n",
    "net.eval()  # 推論モードに設定\n",
    "\n",
    "# モデルのネットワーク構成を出力\n",
    "print(net)"
   ]
  },
  {
   "cell_type": "markdown",
   "id": "f8c9c1fc-2451-4811-9b77-2863cfcf295e",
   "metadata": {},
   "source": [
    "### モデル構成について\n",
    "\n",
    "上記の通り，VGG16は38の層から成る．VGG16の16は畳み込み(Conv)と全結合(Linear)の数．\n",
    "\n",
    "最初のfeatures31層で畳み込みをして特徴量を抽出し，7*7*512の結果が出てくる(7*7の画像サイズは上記の情報だけでは分からないっぽい？)\n",
    "\n",
    "次のclassifier7層で全結合処理を行う．7*7*512=25088の入力から最終的に1000の結果を出力する．"
   ]
  },
  {
   "cell_type": "markdown",
   "id": "8e667367-87a9-45fd-80a3-58741da4d803",
   "metadata": {},
   "source": [
    "### 入力画像の前処理\n",
    "\n",
    "- [Pytorch - torchvision で使える Transform まとめ - pystyle](https://pystyle.info/pytorch-list-of-transforms/)\n",
    "- [PyTorchの学習済みモデルで画像分類（VGG, ResNetなど） | note.nkmk.me](https://note.nkmk.me/python-pytorch-pretrained-models-image-classification/)\n",
    "- https://pytorch.org/vision/stable/models.html#classification\n",
    "  - ~~pytorchの訓練済みモデルはどれも同じ前処理でOK~~ -> v0.13あたりのアップデートでモデルごとに前処理関数が提供される仕様になった"
   ]
  },
  {
   "cell_type": "code",
   "execution_count": 26,
   "id": "5aeb13a2-49ac-46c8-8dbc-773bfa3d8b44",
   "metadata": {},
   "outputs": [
    {
     "name": "stdout",
     "output_type": "stream",
     "text": [
      "(640, 426) RGB\n",
      "(426, 640, 3)\n"
     ]
    },
    {
     "data": {
      "text/plain": [
       "<matplotlib.image.AxesImage at 0x7fdbd9cfde80>"
      ]
     },
     "execution_count": 26,
     "metadata": {},
     "output_type": "execute_result"
    },
    {
     "data": {
      "image/png": "[encoded data removed]",
      "text/plain": [
       "<Figure size 432x288 with 1 Axes>"
      ]
     },
     "metadata": {
      "needs_background": "light"
     },
     "output_type": "display_data"
    }
   ],
   "source": [
    "from PIL import Image\n",
    "import matplotlib.pyplot as plt\n",
    "import numpy as np\n",
    "\n",
    "image_file_path = './data/goldenretriever-3724972_640.jpg'\n",
    "img = Image.open(image_file_path)\n",
    "print(img.size, img.mode)  # (W, H)\n",
    "print(np.array(img).shape)  # (H, W, C)\n",
    "plt.imshow(img)"
   ]
  },
  {
   "cell_type": "code",
   "execution_count": 12,
   "id": "d33500fd-bbdb-4317-9872-ba4a5c96b5a9",
   "metadata": {},
   "outputs": [
    {
     "name": "stdout",
     "output_type": "stream",
     "text": [
      "Compose(\n",
      "    Resize(size=224, interpolation=bilinear, max_size=None, antialias=None)\n",
      "    CenterCrop(size=(224, 224))\n",
      "    ToTensor()\n",
      "    Normalize(mean=[0.485, 0.456, 0.406], std=[0.229, 0.224, 0.225])\n",
      ")\n"
     ]
    }
   ],
   "source": [
    "from torchvision import transforms\n",
    "\n",
    "preprocess = transforms.Compose([\n",
    "    transforms.Resize(224), # 引数が1個の場合，短辺の長さが指定値になるようにアス比固定でリサイズされる\n",
    "    transforms.CenterCrop(224), # 引数が1個の場合，幅，高さが指定値になるように画像中心を切り抜き\n",
    "    transforms.ToTensor(), # [C,H,W]の形状になる\n",
    "    transforms.Normalize(\n",
    "        mean=[0.485, 0.456, 0.406],\n",
    "        std=[0.229, 0.224, 0.225]\n",
    "    )\n",
    "])\n",
    "\n",
    "print(preprocess)"
   ]
  },
  {
   "cell_type": "markdown",
   "id": "179d5686-5a10-4f4f-b254-674855de1b97",
   "metadata": {},
   "source": [
    "上記のやり方は古い．今はモデルごとに前処理関数が提供されている\n",
    "\n",
    "- https://pytorch.org/vision/stable/models.html#using-the-pre-trained-models"
   ]
  },
  {
   "cell_type": "code",
   "execution_count": 15,
   "id": "7d37e11a-f7b3-4a59-8d39-aa4f837432f0",
   "metadata": {},
   "outputs": [
    {
     "name": "stdout",
     "output_type": "stream",
     "text": [
      "ImageClassification(\n",
      "    crop_size=[224]\n",
      "    resize_size=[256]\n",
      "    mean=[0.485, 0.456, 0.406]\n",
      "    std=[0.229, 0.224, 0.225]\n",
      "    interpolation=InterpolationMode.BILINEAR\n",
      ")\n"
     ]
    }
   ],
   "source": [
    "weights = models.VGG16_Weights.DEFAULT\n",
    "preprocess = weights.transforms()\n",
    "\n",
    "print(preprocess)"
   ]
  },
  {
   "cell_type": "code",
   "execution_count": 16,
   "id": "1f1fe08e-d60f-482e-91ac-eff67e7a65a5",
   "metadata": {},
   "outputs": [],
   "source": [
    "img_transformed = preprocess(img)  # torch.Size([3, 224, 224])"
   ]
  },
  {
   "cell_type": "code",
   "execution_count": 20,
   "id": "72efe769-9ec2-4b29-bad6-2fedcd85642d",
   "metadata": {},
   "outputs": [
    {
     "data": {
      "text/plain": [
       "<matplotlib.image.AxesImage at 0x7fdbdaa56070>"
      ]
     },
     "execution_count": 20,
     "metadata": {},
     "output_type": "execute_result"
    },
    {
     "data": {
      "image/png": "[encoded data removed]",
      "text/plain": [
       "<Figure size 432x288 with 1 Axes>"
      ]
     },
     "metadata": {
      "needs_background": "light"
     },
     "output_type": "display_data"
    }
   ],
   "source": [
    "import numpy as np\n",
    "# 検証用にノーマライズした画像を表示してみる\n",
    "# [C,H,W]を[H,W,C]に変換し、0-1に値を制限\n",
    "img_temp = img_transformed.numpy().transpose((1, 2, 0))\n",
    "img_temp = np.clip(img_temp, 0, 1)\n",
    "plt.imshow(img_temp)"
   ]
  },
  {
   "cell_type": "markdown",
   "id": "199b1aad-6ba2-470c-a8a8-19e9400d85f2",
   "metadata": {},
   "source": [
    "### 予測\n",
    "\n",
    "PyTorchではバッチ処理が基本なので，1枚の画像でも先頭にバッチ用の次元を追加すること"
   ]
  },
  {
   "cell_type": "code",
   "execution_count": 27,
   "id": "6ebfe415-2db3-4892-b6f5-bb5f44b3eca7",
   "metadata": {},
   "outputs": [
    {
     "name": "stdout",
     "output_type": "stream",
     "text": [
      "img_transformed.shape: torch.Size([3, 224, 224])\n",
      "img_batch.shape: torch.Size([1, 3, 224, 224])\n",
      "out.shape: torch.Size([1, 1000])\n"
     ]
    }
   ],
   "source": [
    "image_file_path = './data/goldenretriever-3724972_640.jpg'\n",
    "img = Image.open(image_file_path)\n",
    "\n",
    "img_transformed = preprocess(img)\n",
    "print(f\"img_transformed.shape: {img_transformed.shape}\")\n",
    "# バッチサイズの次元を追加\n",
    "img_batch = torch.unsqueeze(img_transformed, 0)\n",
    "print(f\"img_batch.shape: {img_batch.shape}\")\n",
    "\n",
    "# 推論\n",
    "out = net(img_batch) # バッチサイズ * クラス分類\n",
    "print(f\"out.shape: {out.shape}\")"
   ]
  },
  {
   "cell_type": "code",
   "execution_count": 22,
   "id": "01482272-8cfd-4dc2-81b3-d5d2962dc0d6",
   "metadata": {},
   "outputs": [
    {
     "name": "stdout",
     "output_type": "stream",
     "text": [
      "tensor(207)\n",
      "207\n"
     ]
    }
   ],
   "source": [
    "# 確率の一番高いクラスの番号を取得\n",
    "idx = torch.argmax(out[0])\n",
    "print(idx)\n",
    "# tensor型から値を取り出し\n",
    "print(idx.item())"
   ]
  },
  {
   "cell_type": "code",
   "execution_count": 23,
   "id": "ee6be7f8-edb5-4451-a48f-ff8c4778cef3",
   "metadata": {},
   "outputs": [
    {
     "data": {
      "text/plain": [
       "['n02099601', 'golden_retriever']"
      ]
     },
     "execution_count": 23,
     "metadata": {},
     "output_type": "execute_result"
    }
   ],
   "source": [
    "import json\n",
    "# クラス番号からラベルに変換\n",
    "ILSVRC_class_index = json.load(open('./data/imagenet_class_index.json', 'r'))\n",
    "ILSVRC_class_index[str(idx.item())]"
   ]
  },
  {
   "cell_type": "markdown",
   "id": "c28a0d2d-d6b1-4a0e-bb59-503ad50d3099",
   "metadata": {},
   "source": [
    "## 1-3: 転移学習\n",
    "\n",
    "学習済みVGGモデルを使ってアリとハチの2値分類をするモデルを作成する"
   ]
  },
  {
   "cell_type": "markdown",
   "id": "b2a4291c-212b-4c81-af34-2ccde2d27afd",
   "metadata": {},
   "source": [
    "### Dataset作成\n",
    "\n",
    "最低限以下を実装する\n",
    "```python\n",
    "from torch.utils.data import Dataset\n",
    "\n",
    "class MyDataset(Dataset):\n",
    "    def __getitem__(self, index):\n",
    "        # インデックス index のサンプルが要求されたときに返す処理を実装\n",
    "        # 訓練なら入力データと正解データのペアを返す．推論なら入力データだけでよい\n",
    "        # イテレータで受け取ったものを自分で処理するので，戻り値の形式は自由\n",
    "\n",
    "    def __len__(self):\n",
    "        # データセットのサンプル数が要求されたときに返す処理を実装\n",
    "```"
   ]
  },
  {
   "cell_type": "code",
   "execution_count": 60,
   "id": "fdf5c38a-bdea-478a-b072-8ab5b1568bb7",
   "metadata": {},
   "outputs": [],
   "source": [
    "from torch.utils.data import Dataset\n",
    "from torchvision import transforms\n",
    "from PIL import Image\n",
    "from pathlib import Path\n",
    "\n",
    "class HymenopteraDataset(Dataset):\n",
    "    \"\"\"\n",
    "    画像ファイルパスのリストを渡して，itemとして前処理した画像を返す\n",
    "    \"\"\"\n",
    "    def __init__(self, file_list, train=True):\n",
    "        self.file_list = file_list\n",
    "        self.train = train\n",
    "        \n",
    "        resize = 224\n",
    "        mean=[0.485, 0.456, 0.406]\n",
    "        std=[0.229, 0.224, 0.225]\n",
    "\n",
    "        # 推論時と同じ前処理\n",
    "        preprocess_val = transforms.Compose([\n",
    "            transforms.Resize(resize),\n",
    "            transforms.CenterCrop(resize),\n",
    "            transforms.ToTensor(),\n",
    "            transforms.Normalize(mean,std),\n",
    "        ])\n",
    "\n",
    "        preprocess_train = transforms.Compose([\n",
    "            # scaleの変動範囲でランダムに切り抜いてから指定の大きさにリサイズ\n",
    "            # (scale=1ならリサイズされるだけ)\n",
    "            transforms.RandomResizedCrop(resize, scale=(0.5,1)),\n",
    "            transforms.RandomHorizontalFlip(), # ランダムに左右反転\n",
    "            transforms.ToTensor(),\n",
    "            transforms.Normalize(mean,std),\n",
    "        ])\n",
    "        \n",
    "        if self.train:\n",
    "            self.preprocess = preprocess_train\n",
    "        else:\n",
    "            self.preprocess = preprocess_val\n",
    "    \n",
    "    def __len__(self):\n",
    "        return len(self.file_list)\n",
    "    \n",
    "    def __getitem__(self, index):\n",
    "        img_path = self.file_list[index]\n",
    "        img = Image.open(img_path)\n",
    "        img_trans = self.preprocess(img)\n",
    "        label = img_path.parent.name\n",
    "        if label == \"ants\":\n",
    "            label = 0\n",
    "        elif label == \"bees\":\n",
    "            label = 1\n",
    "        else:\n",
    "            assert False\n",
    "        return img_trans, label"
   ]
  },
  {
   "cell_type": "markdown",
   "id": "ae280a14-f378-4e3d-a6aa-1cc1c5f2c295",
   "metadata": {},
   "source": [
    "学習用のデータはtrainとvalでフォルダ分けされている"
   ]
  },
  {
   "cell_type": "code",
   "execution_count": 50,
   "id": "c2cef730-43d8-42d9-a52a-56ecbcbfa0ff",
   "metadata": {},
   "outputs": [
    {
     "name": "stdout",
     "output_type": "stream",
     "text": [
      "\u001b[01;34m./data/hymenoptera_data\u001b[00m\n",
      "├── \u001b[01;34mtrain\u001b[00m\n",
      "│   ├── \u001b[01;34mants\u001b[00m\n",
      "│   └── \u001b[01;34mbees\u001b[00m\n",
      "└── \u001b[01;34mval\u001b[00m\n",
      "    ├── \u001b[01;34mants\u001b[00m\n",
      "    └── \u001b[01;34mbees\u001b[00m\n",
      "\n",
      "6 directories, 0 files\n"
     ]
    }
   ],
   "source": [
    "!tree ./data/hymenoptera_data -L 2"
   ]
  },
  {
   "cell_type": "code",
   "execution_count": 61,
   "id": "9197cddd-a059-436e-b686-a90ad40b0695",
   "metadata": {},
   "outputs": [
    {
     "name": "stdout",
     "output_type": "stream",
     "text": [
      "train's length: '243\n",
      "val's length: '153\n"
     ]
    }
   ],
   "source": [
    "# file_listを作成\n",
    "rootpath = Path(\"./data/hymenoptera_data/\")\n",
    "\n",
    "path_list_key = [\"train\", \"val\"]\n",
    "path_list_dict = dict()\n",
    "\n",
    "# アリとハチの画像をひとつのリストにまとめて読み込む\n",
    "# 両者の区別はディレクトリ名で行う\n",
    "for k in path_list_key:\n",
    "    path_list = []\n",
    "    for p in rootpath.glob(f\"{k}/*/*.jpg\"):\n",
    "        path_list.append(p)\n",
    "    print(f\"{k}'s length: '{len(path_list)}\")\n",
    "    path_list_dict[k] = path_list"
   ]
  },
  {
   "cell_type": "code",
   "execution_count": 62,
   "id": "db55c94d-e312-48ae-822f-77c3df2d5ce8",
   "metadata": {},
   "outputs": [
    {
     "name": "stdout",
     "output_type": "stream",
     "text": [
      "bees\n",
      "ants\n"
     ]
    }
   ],
   "source": [
    "# ラベル名取り出すテスト\n",
    "print(path_list_dict[\"train\"][0].parent.name)\n",
    "print(path_list_dict[\"val\"][100].parent.name)"
   ]
  },
  {
   "cell_type": "markdown",
   "id": "81d83970-e1eb-47e5-b94f-0cf052835945",
   "metadata": {},
   "source": [
    "Datasetの動作確認\n",
    "- [Pythonの __getitem__ に与える引数やスライスについて調べてみた - Qiita](https://qiita.com/gyu-don/items/bde192b129a7b1b8c532)\n",
    "  - `__getitem__`はPythonの特殊メソッドのひとつで、オブジェクトに角括弧でアクセスしたときの挙動を定義できる"
   ]
  },
  {
   "cell_type": "code",
   "execution_count": 63,
   "id": "5362c6d2-40b7-4683-804f-925134c48203",
   "metadata": {},
   "outputs": [
    {
     "name": "stdout",
     "output_type": "stream",
     "text": [
      "torch.Size([3, 224, 224]) 1\n"
     ]
    }
   ],
   "source": [
    "train_dataset = HymenopteraDataset(\n",
    "    path_list_dict[\"train\"],\n",
    "    train = True,\n",
    ")\n",
    "val_dataset = HymenopteraDataset(\n",
    "    path_list_dict[\"val\"],\n",
    "    train = False,\n",
    ")\n",
    "\n",
    "index = 0\n",
    "img_trans, label = train_dataset[0] # __getitem__呼び出し\n",
    "print(img_trans.size(), label)"
   ]
  },
  {
   "cell_type": "markdown",
   "id": "790ed609-6a3f-43c6-9fe0-32309468c70d",
   "metadata": {},
   "source": [
    "### DataLoader作成\n",
    "- https://pytorch.org/docs/stable/data.html\n",
    "\n",
    "Datasetをバッチサイズ単位でまとめたものを返すイテレータが作成される\n",
    "- 元々Tensor型のものは先頭にバッチサイズの次元が追加される\n",
    "- 単純なインデックスを返すものはバッチサイズの次元になるだけ"
   ]
  },
  {
   "cell_type": "code",
   "execution_count": 86,
   "id": "c94117c3-7014-4174-8535-9afdfdd8e16d",
   "metadata": {},
   "outputs": [
    {
     "name": "stdout",
     "output_type": "stream",
     "text": [
      "torch.Size([32, 3, 224, 224])\n",
      "torch.Size([32])\n",
      "tensor([1, 1, 1, 0, 0, 0, 1, 1, 0, 0, 0, 0, 1, 0, 1, 0, 0, 0, 1, 1, 1, 1, 0, 0,\n",
      "        1, 1, 0, 1, 0, 1, 1, 0])\n"
     ]
    }
   ],
   "source": [
    "from torch.utils.data import DataLoader\n",
    "\n",
    "batch_size = 32\n",
    "train_dataloader = DataLoader(\n",
    "    train_dataset,\n",
    "    batch_size = batch_size,\n",
    "    shuffle=True,\n",
    ")\n",
    "\n",
    "val_dataloader = DataLoader(\n",
    "    val_dataset,\n",
    "    batch_size = batch_size,\n",
    "    shuffle=False,\n",
    ")\n",
    "\n",
    "dataloaders_dict = {\"train\": train_dataloader, \"val\": val_dataloader}\n",
    "\n",
    "# 動作確認 バッチサイズの次元が付加されたデータセットが返される\n",
    "for imgs, labels in train_dataloader:\n",
    "    print(imgs.size())\n",
    "    print(labels.size())\n",
    "    print(labels)\n",
    "    break"
   ]
  },
  {
   "cell_type": "markdown",
   "id": "89fe6f41-167c-4428-a4d2-5832a6e7ed9c",
   "metadata": {},
   "source": [
    "### 転移学習用のモデル作成\n",
    "\n",
    "最終出力の数だけ変更する"
   ]
  },
  {
   "cell_type": "code",
   "execution_count": 66,
   "id": "1db48645-e25c-4257-9dcd-2ee5e616967a",
   "metadata": {},
   "outputs": [],
   "source": [
    "from torchvision import models\n",
    "\n",
    "weights = models.VGG16_Weights.DEFAULT\n",
    "net = models.vgg16(weights=weights)"
   ]
  },
  {
   "cell_type": "code",
   "execution_count": 68,
   "id": "c1e457f3-c215-4da2-96e3-ed1419860c47",
   "metadata": {},
   "outputs": [
    {
     "name": "stdout",
     "output_type": "stream",
     "text": [
      "Sequential(\n",
      "  (0): Linear(in_features=25088, out_features=4096, bias=True)\n",
      "  (1): ReLU(inplace=True)\n",
      "  (2): Dropout(p=0.5, inplace=False)\n",
      "  (3): Linear(in_features=4096, out_features=4096, bias=True)\n",
      "  (4): ReLU(inplace=True)\n",
      "  (5): Dropout(p=0.5, inplace=False)\n",
      "  (6): Linear(in_features=4096, out_features=1000, bias=True)\n",
      ")\n"
     ]
    }
   ],
   "source": [
    "print(net.classifier)"
   ]
  },
  {
   "cell_type": "code",
   "execution_count": 74,
   "id": "41376f40-59b4-49ac-9b59-92fc70a41af5",
   "metadata": {},
   "outputs": [
    {
     "name": "stdout",
     "output_type": "stream",
     "text": [
      "Sequential(\n",
      "  (0): Linear(in_features=25088, out_features=4096, bias=True)\n",
      "  (1): ReLU(inplace=True)\n",
      "  (2): Dropout(p=0.5, inplace=False)\n",
      "  (3): Linear(in_features=4096, out_features=4096, bias=True)\n",
      "  (4): ReLU(inplace=True)\n",
      "  (5): Dropout(p=0.5, inplace=False)\n",
      "  (6): Linear(in_features=4096, out_features=2, bias=True)\n",
      ")\n"
     ]
    }
   ],
   "source": [
    "import torch\n",
    "\n",
    "# 最後の出力層だけ変更．出力を2にする\n",
    "net.classifier[6] = torch.nn.Linear(in_features=4096, out_features=2)\n",
    "net.train() # 訓練モードに変更\n",
    "\n",
    "print(net.classifier)  # print(net)で見られる情報の一部を表示"
   ]
  },
  {
   "cell_type": "code",
   "execution_count": 73,
   "id": "27e6fbc3-31d8-4afe-be22-7fb44334a4c9",
   "metadata": {},
   "outputs": [],
   "source": [
    "# 特徴量のシーケンスも単独で確認できる\n",
    "# print(net.features)"
   ]
  },
  {
   "cell_type": "markdown",
   "id": "0d035ad4-ba6c-4761-b368-bf5581c1be5e",
   "metadata": {},
   "source": [
    "### 最適化手法の設定\n",
    "\n",
    "- https://pytorch.org/docs/stable/optim.html\n",
    "  - optimizerにはiteratableなparamを入れることができるので，`net.parameters()`ですべてのパラメータを入れることもできるし，任意のパラメータのみをリスト型などにして入れることもできる\n",
    "\n",
    "```python\n",
    "# すべてのパラメータを入れる場合\n",
    "optimizer = optim.SGD(model.parameters(), lr=0.01, momentum=0.9)\n",
    "\n",
    "# 特定のパラメータをリストで入れる場合\n",
    "optimizer = optim.Adam([var1, var2], lr=0.0001)\n",
    "\n",
    "# 特定のパラメータをdictで入れる(学習率を個別に上書きできる)\n",
    "optim.SGD([\n",
    "    {'params': model.base.parameters()},\n",
    "    {'params': model.classifier.parameters(), 'lr': 1e-3}\n",
    "], lr=1e-2, momentum=0.9)\n",
    "```\n",
    "\n",
    "今回はパラメータをリスト型で入れる方法を使用する．\n",
    "\n",
    "既存のモデルのパラメータを変更する場合は`named_parameters`関数でパラメータを情報を取得し，パラメータの取得と設定を行う．\n",
    "\n",
    "- [named_parameters](https://pytorch.org/docs/stable/generated/torch.nn.Module.html#torch.nn.Module.named_parameters)\n",
    "  - パラメータ名(`features.0.weight`みたいな感じ)とパラメータをタプルで返す (パラメータだけの場合はparameters()関数を使用)\n",
    "  - [パラメータ](https://pytorch.org/docs/stable/generated/torch.nn.parameter.Parameter.html)はTensor型の`data`と`requires_grad`をメンバーに持つ．`requires_grad`はデフォルトでTrueなので，勾配計算が実施される\n",
    "\n",
    "VGG16のclassifierは0,3,6層にLinearレイヤー(パラメータを持つ層)がある"
   ]
  },
  {
   "cell_type": "code",
   "execution_count": 78,
   "id": "e0ab05df-08d3-44f2-9bb3-f8f83eaeb992",
   "metadata": {},
   "outputs": [
    {
     "name": "stdout",
     "output_type": "stream",
     "text": [
      "features.0.weight torch.Size([64, 3, 3, 3]) True\n",
      "features.0.bias torch.Size([64]) True\n",
      "features.2.weight torch.Size([64, 64, 3, 3]) True\n",
      "features.2.bias torch.Size([64]) True\n",
      "features.5.weight torch.Size([128, 64, 3, 3]) True\n",
      "features.5.bias torch.Size([128]) True\n",
      "features.7.weight torch.Size([128, 128, 3, 3]) True\n",
      "features.7.bias torch.Size([128]) True\n",
      "features.10.weight torch.Size([256, 128, 3, 3]) True\n",
      "features.10.bias torch.Size([256]) True\n",
      "features.12.weight torch.Size([256, 256, 3, 3]) True\n",
      "features.12.bias torch.Size([256]) True\n",
      "features.14.weight torch.Size([256, 256, 3, 3]) True\n",
      "features.14.bias torch.Size([256]) True\n",
      "features.17.weight torch.Size([512, 256, 3, 3]) True\n",
      "features.17.bias torch.Size([512]) True\n",
      "features.19.weight torch.Size([512, 512, 3, 3]) True\n",
      "features.19.bias torch.Size([512]) True\n",
      "features.21.weight torch.Size([512, 512, 3, 3]) True\n",
      "features.21.bias torch.Size([512]) True\n",
      "features.24.weight torch.Size([512, 512, 3, 3]) True\n",
      "features.24.bias torch.Size([512]) True\n",
      "features.26.weight torch.Size([512, 512, 3, 3]) True\n",
      "features.26.bias torch.Size([512]) True\n",
      "features.28.weight torch.Size([512, 512, 3, 3]) True\n",
      "features.28.bias torch.Size([512]) True\n",
      "classifier.0.weight torch.Size([4096, 25088]) True\n",
      "classifier.0.bias torch.Size([4096]) True\n",
      "classifier.3.weight torch.Size([4096, 4096]) True\n",
      "classifier.3.bias torch.Size([4096]) True\n",
      "classifier.6.weight torch.Size([2, 4096]) True\n",
      "classifier.6.bias torch.Size([2]) True\n"
     ]
    }
   ],
   "source": [
    "for name, param in net.named_parameters():\n",
    "    print(name, param.data.size(), param.requires_grad)"
   ]
  },
  {
   "cell_type": "markdown",
   "id": "ce206a92-1651-45b7-add0-b4fdcb2123b5",
   "metadata": {},
   "source": [
    "変更しないパラメータは`requires_grad`をFalseに設定しておく"
   ]
  },
  {
   "cell_type": "code",
   "execution_count": 81,
   "id": "f3c7fc04-f2df-4200-b932-8575d424d2c1",
   "metadata": {},
   "outputs": [
    {
     "name": "stdout",
     "output_type": "stream",
     "text": [
      "[Parameter containing:\n",
      "tensor([[ 0.0069,  0.0100, -0.0045,  ..., -0.0029,  0.0014,  0.0007],\n",
      "        [ 0.0049, -0.0070,  0.0085,  ...,  0.0036,  0.0041,  0.0045]],\n",
      "       requires_grad=True), Parameter containing:\n",
      "tensor([ 0.0074, -0.0148], requires_grad=True)]\n"
     ]
    }
   ],
   "source": [
    "update_param_list = []\n",
    "update_param_name_list = [\"classifier.6.weight\", \"classifier.6.bias\"]\n",
    "\n",
    "for name, param in net.named_parameters():\n",
    "    if name in update_param_name_list:\n",
    "        update_param_list.append(param)\n",
    "    else:\n",
    "        param.requires_grad = False\n",
    "print(update_param_list)"
   ]
  },
  {
   "cell_type": "code",
   "execution_count": 85,
   "id": "031883d4-ee07-4c2f-9d86-2b67c01d4bde",
   "metadata": {},
   "outputs": [
    {
     "name": "stdout",
     "output_type": "stream",
     "text": [
      "features.0.weight torch.Size([64, 3, 3, 3]) False\n",
      "features.0.bias torch.Size([64]) False\n",
      "features.2.weight torch.Size([64, 64, 3, 3]) False\n",
      "features.2.bias torch.Size([64]) False\n",
      "features.5.weight torch.Size([128, 64, 3, 3]) False\n",
      "features.5.bias torch.Size([128]) False\n",
      "features.7.weight torch.Size([128, 128, 3, 3]) False\n",
      "features.7.bias torch.Size([128]) False\n",
      "features.10.weight torch.Size([256, 128, 3, 3]) False\n",
      "features.10.bias torch.Size([256]) False\n",
      "features.12.weight torch.Size([256, 256, 3, 3]) False\n",
      "features.12.bias torch.Size([256]) False\n",
      "features.14.weight torch.Size([256, 256, 3, 3]) False\n",
      "features.14.bias torch.Size([256]) False\n",
      "features.17.weight torch.Size([512, 256, 3, 3]) False\n",
      "features.17.bias torch.Size([512]) False\n",
      "features.19.weight torch.Size([512, 512, 3, 3]) False\n",
      "features.19.bias torch.Size([512]) False\n",
      "features.21.weight torch.Size([512, 512, 3, 3]) False\n",
      "features.21.bias torch.Size([512]) False\n",
      "features.24.weight torch.Size([512, 512, 3, 3]) False\n",
      "features.24.bias torch.Size([512]) False\n",
      "features.26.weight torch.Size([512, 512, 3, 3]) False\n",
      "features.26.bias torch.Size([512]) False\n",
      "features.28.weight torch.Size([512, 512, 3, 3]) False\n",
      "features.28.bias torch.Size([512]) False\n",
      "classifier.0.weight torch.Size([4096, 25088]) False\n",
      "classifier.0.bias torch.Size([4096]) False\n",
      "classifier.3.weight torch.Size([4096, 4096]) False\n",
      "classifier.3.bias torch.Size([4096]) False\n",
      "classifier.6.weight torch.Size([2, 4096]) True\n",
      "classifier.6.bias torch.Size([2]) True\n"
     ]
    }
   ],
   "source": [
    "for name, param in net.named_parameters():\n",
    "    print(name, param.data.size(), param.requires_grad)"
   ]
  },
  {
   "cell_type": "code",
   "execution_count": 83,
   "id": "dc8248da-8309-48cc-85a8-6d58dde32a86",
   "metadata": {},
   "outputs": [],
   "source": [
    "# 学習率とかのパラメータは一般的な値を使用？\n",
    "optimizer = torch.optim.SGD(params=update_param_list, lr=0.001, momentum=0.9)"
   ]
  },
  {
   "cell_type": "code",
   "execution_count": 84,
   "id": "7148ca8e-5a6d-4e9d-9114-98f7cef84cef",
   "metadata": {},
   "outputs": [
    {
     "name": "stdout",
     "output_type": "stream",
     "text": [
      "SGD (\n",
      "Parameter Group 0\n",
      "    dampening: 0\n",
      "    foreach: None\n",
      "    lr: 0.001\n",
      "    maximize: False\n",
      "    momentum: 0.9\n",
      "    nesterov: False\n",
      "    weight_decay: 0\n",
      ")\n"
     ]
    }
   ],
   "source": [
    "print(optimizer)"
   ]
  },
  {
   "cell_type": "markdown",
   "id": "9c92396e-3997-432e-b323-7a0b8e762e93",
   "metadata": {},
   "source": [
    "optimizerの使い方は簡単\n",
    "\n",
    "順伝搬処理 -> 損失関数計算 -> 逆伝播 -> optimizerで重み更新\n",
    "```python\n",
    "for input, target in dataset:\n",
    "    optimizer.zero_grad()\n",
    "    output = model(input)\n",
    "    loss = loss_fn(output, target)\n",
    "    loss.backward()\n",
    "    optimizer.step()\n",
    "```"
   ]
  },
  {
   "cell_type": "markdown",
   "id": "985a1bc1-6dd1-41ce-a371-a60400cef7f0",
   "metadata": {},
   "source": [
    "### 損失関数の定義\n",
    "\n",
    "- [CrossEntropyLoss — PyTorch 1.12 documentationCrossEntropyLoss — PyTorch 1.12 documentation](https://pytorch.org/docs/stable/generated/torch.nn.CrossEntropyLoss.htmlhttps://pytorch.org/docs/stable/generated/torch.nn.CrossEntropyLoss.html)\n",
    "  - 通常のクラス分類で使われる損失関数\n",
    "  - softmaxを適用してからnegative log likehood lossを計算\n"
   ]
  },
  {
   "cell_type": "code",
   "execution_count": 77,
   "id": "5d1939af-965f-45e7-8414-ac1ab0a5a0dc",
   "metadata": {},
   "outputs": [],
   "source": [
    "criterion = torch.nn.CrossEntropyLoss()"
   ]
  },
  {
   "cell_type": "markdown",
   "id": "c8d48e79-ea41-4b52-b6ec-37c4f5754852",
   "metadata": {},
   "source": [
    "### 学習と結果確認\n",
    "\n",
    "`set_grad_enabled`を使うと勾配計算のフラグを全体に適用できる(個別のオプションで有効になっているものも無効にできる)\n",
    "  - 参考: [PyTorchの気になるところ(GW第1弾) - Qiita: torch.no_grad()とtorch.set_grad_enabled()の違い](https://qiita.com/tatsuya11bbs/items/86141fe3ca35bdae7338)"
   ]
  },
  {
   "cell_type": "code",
   "execution_count": 92,
   "id": "52c04737-3f1e-40d5-a0cb-18de42c63b5f",
   "metadata": {},
   "outputs": [],
   "source": [
    "# モデルを学習させる関数を作成\n",
    "from tqdm import tqdm\n",
    "\n",
    "def train_model(net, dataloaders_dict, criterion, optimizer, num_epochs):\n",
    "    for epoch in range(num_epochs):\n",
    "        print('Epoch {}/{}'.format(epoch+1, num_epochs))\n",
    "        print('-------------')\n",
    "\n",
    "        for phase in ['train', 'val']:\n",
    "            if phase == 'train':\n",
    "                net.train()\n",
    "            else:\n",
    "                net.eval()\n",
    "\n",
    "            epoch_loss = 0.0  # epochの損失和\n",
    "            epoch_corrects = 0  # epochの正解数\n",
    "\n",
    "            # 未学習時の検証性能を確かめるため、epoch=0の訓練は省略\n",
    "            if (epoch == 0) and (phase == 'train'):\n",
    "                continue\n",
    "\n",
    "            # データローダーからミニバッチを取り出すループ\n",
    "            for inputs, labels in tqdm(dataloaders_dict[phase]):\n",
    "                optimizer.zero_grad()\n",
    "\n",
    "                # 順伝搬（forward）計算\n",
    "                with torch.set_grad_enabled(phase == 'train'):\n",
    "                    outputs = net(inputs)\n",
    "                    loss = criterion(outputs, labels)  # 損失を計算\n",
    "                    _, preds = torch.max(outputs, 1)  # ラベルを予測\n",
    "  \n",
    "                    if phase == 'train':\n",
    "                        loss.backward()\n",
    "                        optimizer.step()\n",
    "\n",
    "                    epoch_loss += loss.item() * inputs.size(0)  \n",
    "                    epoch_corrects += torch.sum(preds == labels.data)\n",
    "\n",
    "            # epochごとのlossと正解率を表示\n",
    "            epoch_loss = epoch_loss / len(dataloaders_dict[phase].dataset)\n",
    "            epoch_acc = epoch_corrects.double() / len(dataloaders_dict[phase].dataset)\n",
    "            print('{} Loss: {:.4f} Acc: {:.4f}'.format(phase, epoch_loss, epoch_acc))\n"
   ]
  },
  {
   "cell_type": "code",
   "execution_count": 93,
   "id": "b69093fd-ffd3-47fe-b936-26d3ee16d2ed",
   "metadata": {},
   "outputs": [
    {
     "name": "stdout",
     "output_type": "stream",
     "text": [
      "Epoch 1/2\n",
      "-------------\n"
     ]
    },
    {
     "name": "stderr",
     "output_type": "stream",
     "text": [
      "100%|██████████████████████████████████████████████████████████████████████████████████████████████████████████████████████████████████████████████████████████████████████████████| 5/5 [00:15<00:00,  3.16s/it]\n"
     ]
    },
    {
     "name": "stdout",
     "output_type": "stream",
     "text": [
      "val Loss: 0.7835 Acc: 0.4052\n",
      "Epoch 2/2\n",
      "-------------\n"
     ]
    },
    {
     "name": "stderr",
     "output_type": "stream",
     "text": [
      "100%|██████████████████████████████████████████████████████████████████████████████████████████████████████████████████████████████████████████████████████████████████████████████| 8/8 [00:24<00:00,  3.12s/it]\n"
     ]
    },
    {
     "name": "stdout",
     "output_type": "stream",
     "text": [
      "train Loss: 0.4930 Acc: 0.7531\n"
     ]
    },
    {
     "name": "stderr",
     "output_type": "stream",
     "text": [
      "100%|██████████████████████████████████████████████████████████████████████████████████████████████████████████████████████████████████████████████████████████████████████████████| 5/5 [00:15<00:00,  3.10s/it]"
     ]
    },
    {
     "name": "stdout",
     "output_type": "stream",
     "text": [
      "val Loss: 0.1770 Acc: 0.9412\n"
     ]
    },
    {
     "name": "stderr",
     "output_type": "stream",
     "text": [
      "\n"
     ]
    }
   ],
   "source": [
    "# 学習・検証を実行する\n",
    "num_epochs=2\n",
    "train_model(net, dataloaders_dict, criterion, optimizer, num_epochs=num_epochs)"
   ]
  },
  {
   "cell_type": "markdown",
   "id": "54e010a8-bdcf-4fca-9748-d4a9d8b17e0e",
   "metadata": {},
   "source": [
    "## 1-5: ファインチューニング\n",
    "\n",
    "最終層だけでなく，他の層も学習パラメータを更新する\n",
    "\n",
    "optimizerの設定を変更する以外は転移学習と同じ"
   ]
  },
  {
   "cell_type": "code",
   "execution_count": 3,
   "id": "d7712825-e0c6-48fe-a680-33a267008535",
   "metadata": {},
   "outputs": [
    {
     "name": "stdout",
     "output_type": "stream",
     "text": [
      "PyTorch Version:  1.12.1+cpu\n",
      "Torchvision Version:  0.13.1+cpu\n"
     ]
    }
   ],
   "source": [
    "import random\n",
    "import torch\n",
    "import torchvision\n",
    "import numpy as np\n",
    "\n",
    "print(\"PyTorch Version: \",torch.__version__)\n",
    "print(\"Torchvision Version: \",torchvision.__version__)\n",
    "\n",
    "# 乱数のシードを設定\n",
    "torch.manual_seed(1234)\n",
    "np.random.seed(1234)\n",
    "random.seed(1234)"
   ]
  },
  {
   "cell_type": "markdown",
   "id": "04d86361-62e7-4843-8765-6f3d7a77ba8a",
   "metadata": {},
   "source": [
    "### 前準備\n",
    "\n",
    "データローダーはさっきと同じものを使用\n",
    "\n",
    "ネットワークモデルと損失関数も同様"
   ]
  },
  {
   "cell_type": "code",
   "execution_count": 4,
   "id": "0fd8b2b1-ebe2-4851-a407-da97cca29e47",
   "metadata": {},
   "outputs": [],
   "source": [
    "from torch.utils.data import Dataset\n",
    "from torchvision import transforms\n",
    "from PIL import Image\n",
    "from pathlib import Path\n",
    "\n",
    "class HymenopteraDataset(Dataset):\n",
    "    \"\"\"\n",
    "    画像ファイルパスのリストを渡して，itemとして前処理した画像を返す\n",
    "    \"\"\"\n",
    "    def __init__(self, file_list, train=True):\n",
    "        self.file_list = file_list\n",
    "        self.train = train\n",
    "        \n",
    "        resize = 224\n",
    "        mean=[0.485, 0.456, 0.406]\n",
    "        std=[0.229, 0.224, 0.225]\n",
    "\n",
    "        # 推論時と同じ前処理\n",
    "        preprocess_val = transforms.Compose([\n",
    "            transforms.Resize(resize),\n",
    "            transforms.CenterCrop(resize),\n",
    "            transforms.ToTensor(),\n",
    "            transforms.Normalize(mean,std),\n",
    "        ])\n",
    "\n",
    "        preprocess_train = transforms.Compose([\n",
    "            # scaleの変動範囲でランダムに切り抜いてから指定の大きさにリサイズ\n",
    "            # (scale=1ならリサイズされるだけ)\n",
    "            transforms.RandomResizedCrop(resize, scale=(0.5,1)),\n",
    "            transforms.RandomHorizontalFlip(), # ランダムに左右反転\n",
    "            transforms.ToTensor(),\n",
    "            transforms.Normalize(mean,std),\n",
    "        ])\n",
    "        \n",
    "        if self.train:\n",
    "            self.preprocess = preprocess_train\n",
    "        else:\n",
    "            self.preprocess = preprocess_val\n",
    "    \n",
    "    def __len__(self):\n",
    "        return len(self.file_list)\n",
    "    \n",
    "    def __getitem__(self, index):\n",
    "        img_path = self.file_list[index]\n",
    "        img = Image.open(img_path)\n",
    "        img_trans = self.preprocess(img)\n",
    "        label = img_path.parent.name\n",
    "        if label == \"ants\":\n",
    "            label = 0\n",
    "        elif label == \"bees\":\n",
    "            label = 1\n",
    "        else:\n",
    "            assert False\n",
    "        return img_trans, label"
   ]
  },
  {
   "cell_type": "code",
   "execution_count": 5,
   "id": "b2a541e7-491e-4723-97f1-74f8d1bae1da",
   "metadata": {},
   "outputs": [
    {
     "name": "stdout",
     "output_type": "stream",
     "text": [
      "train's length: '243\n",
      "val's length: '153\n"
     ]
    }
   ],
   "source": [
    "rootpath = Path(\"./data/hymenoptera_data/\")\n",
    "path_list_key = [\"train\", \"val\"]\n",
    "path_list_dict = dict()\n",
    "for k in path_list_key:\n",
    "    path_list = []\n",
    "    for p in rootpath.glob(f\"{k}/*/*.jpg\"):\n",
    "        path_list.append(p)\n",
    "    print(f\"{k}'s length: '{len(path_list)}\")\n",
    "    path_list_dict[k] = path_list"
   ]
  },
  {
   "cell_type": "code",
   "execution_count": 6,
   "id": "3279779e-d954-4334-929a-a984564b12c6",
   "metadata": {},
   "outputs": [],
   "source": [
    "train_dataset = HymenopteraDataset(\n",
    "    path_list_dict[\"train\"],\n",
    "    train = True,\n",
    ")\n",
    "val_dataset = HymenopteraDataset(\n",
    "    path_list_dict[\"val\"],\n",
    "    train = False,\n",
    ")"
   ]
  },
  {
   "cell_type": "code",
   "execution_count": 7,
   "id": "4430651a-cb02-406b-8862-4e9e61ea1c1b",
   "metadata": {},
   "outputs": [],
   "source": [
    "from torch.utils.data import DataLoader\n",
    "\n",
    "batch_size = 32\n",
    "train_dataloader = DataLoader(\n",
    "    train_dataset,\n",
    "    batch_size = batch_size,\n",
    "    shuffle=True,\n",
    ")\n",
    "\n",
    "val_dataloader = DataLoader(\n",
    "    val_dataset,\n",
    "    batch_size = batch_size,\n",
    "    shuffle=False,\n",
    ")\n",
    "\n",
    "dataloaders_dict = {\"train\": train_dataloader, \"val\": val_dataloader}"
   ]
  },
  {
   "cell_type": "code",
   "execution_count": 8,
   "id": "cb2451f5-aa1c-404d-9ab4-aaaedd66c94c",
   "metadata": {},
   "outputs": [
    {
     "name": "stdout",
     "output_type": "stream",
     "text": [
      "\n"
     ]
    }
   ],
   "source": [
    "from torchvision import models\n",
    "import torch\n",
    "\n",
    "weights = models.VGG16_Weights.DEFAULT\n",
    "net = models.vgg16(weights=weights)\n",
    "net.classifier[6] = torch.nn.Linear(in_features=4096, out_features=2)\n",
    "net.train()\n",
    "print(\"\")"
   ]
  },
  {
   "cell_type": "code",
   "execution_count": 14,
   "id": "c4c99f64-059f-4d17-a7f8-01d5a27ca4a0",
   "metadata": {},
   "outputs": [],
   "source": [
    "criterion = torch.nn.CrossEntropyLoss()"
   ]
  },
  {
   "cell_type": "markdown",
   "id": "98d926d0-27d9-4c16-8137-2c6c658bf550",
   "metadata": {},
   "source": [
    "### 最適化手法の設定\n",
    "\n"
   ]
  },
  {
   "cell_type": "code",
   "execution_count": 9,
   "id": "56f9948a-8d62-4952-a23e-648db96593da",
   "metadata": {},
   "outputs": [
    {
     "name": "stdout",
     "output_type": "stream",
     "text": [
      "params_to_update_1に格納： features.0.weight\n",
      "params_to_update_1に格納： features.0.bias\n",
      "params_to_update_1に格納： features.2.weight\n",
      "params_to_update_1に格納： features.2.bias\n",
      "params_to_update_1に格納： features.5.weight\n",
      "params_to_update_1に格納： features.5.bias\n",
      "params_to_update_1に格納： features.7.weight\n",
      "params_to_update_1に格納： features.7.bias\n",
      "params_to_update_1に格納： features.10.weight\n",
      "params_to_update_1に格納： features.10.bias\n",
      "params_to_update_1に格納： features.12.weight\n",
      "params_to_update_1に格納： features.12.bias\n",
      "params_to_update_1に格納： features.14.weight\n",
      "params_to_update_1に格納： features.14.bias\n",
      "params_to_update_1に格納： features.17.weight\n",
      "params_to_update_1に格納： features.17.bias\n",
      "params_to_update_1に格納： features.19.weight\n",
      "params_to_update_1に格納： features.19.bias\n",
      "params_to_update_1に格納： features.21.weight\n",
      "params_to_update_1に格納： features.21.bias\n",
      "params_to_update_1に格納： features.24.weight\n",
      "params_to_update_1に格納： features.24.bias\n",
      "params_to_update_1に格納： features.26.weight\n",
      "params_to_update_1に格納： features.26.bias\n",
      "params_to_update_1に格納： features.28.weight\n",
      "params_to_update_1に格納： features.28.bias\n",
      "params_to_update_2に格納： classifier.0.weight\n",
      "params_to_update_2に格納： classifier.0.bias\n",
      "params_to_update_2に格納： classifier.3.weight\n",
      "params_to_update_2に格納： classifier.3.bias\n",
      "params_to_update_3に格納： classifier.6.weight\n",
      "params_to_update_3に格納： classifier.6.bias\n"
     ]
    }
   ],
   "source": [
    "# ファインチューニングで学習させるパラメータを、変数params_to_updateの1～3に格納する\n",
    "params_to_update_1 = []\n",
    "params_to_update_2 = []\n",
    "params_to_update_3 = []\n",
    "\n",
    "# 学習させる層のパラメータ名を指定\n",
    "update_param_names_1 = [\"features\"]\n",
    "update_param_names_2 = [\"classifier.0\", \"classifier.3\"]\n",
    "update_param_names_3 = [\"classifier.6\"]\n",
    "\n",
    "for name, param in net.named_parameters():\n",
    "    param.requires_grad = True\n",
    "    if True in [name.find(s)==0 for s in update_param_names_1]:\n",
    "        params_to_update_1.append(param)\n",
    "        print(\"params_to_update_1に格納：\", name)\n",
    "    elif True in [name.find(s)==0 for s in update_param_names_2]:\n",
    "        params_to_update_2.append(param)\n",
    "        print(\"params_to_update_2に格納：\", name)\n",
    "    elif True in [name.find(s)==0 for s in update_param_names_3]:\n",
    "        params_to_update_3.append(param)\n",
    "        print(\"params_to_update_3に格納：\", name)\n",
    "    else:\n",
    "        param.requires_grad = False"
   ]
  },
  {
   "cell_type": "code",
   "execution_count": 10,
   "id": "026b6c2b-4911-4035-bbd6-3c6653077754",
   "metadata": {},
   "outputs": [],
   "source": [
    "# 最適化手法の設定\n",
    "# この値に指定した理由は書かれていないが，一般的に出力層に近い方の学習率を大きめにとる\n",
    "optimizer = torch.optim.SGD([\n",
    "    {'params': params_to_update_1, 'lr': 1e-4},\n",
    "    {'params': params_to_update_2, 'lr': 5e-4},\n",
    "    {'params': params_to_update_3, 'lr': 1e-3}\n",
    "], momentum=0.9)\n"
   ]
  },
  {
   "cell_type": "markdown",
   "id": "f2ebaeee-c7f7-4696-b92e-e260455febc5",
   "metadata": {},
   "source": [
    "### 学習と検証\n",
    "\n",
    "学習用の関数も先ほどと同様"
   ]
  },
  {
   "cell_type": "code",
   "execution_count": 12,
   "id": "ff6e2945-368b-4eae-a213-ed08f7b6edb3",
   "metadata": {},
   "outputs": [],
   "source": [
    "from tqdm import tqdm\n",
    "\n",
    "def train_model(net, dataloaders_dict, criterion, optimizer, num_epochs):\n",
    "    for epoch in range(num_epochs):\n",
    "        print('Epoch {}/{}'.format(epoch+1, num_epochs))\n",
    "        print('-------------')\n",
    "\n",
    "        for phase in ['train', 'val']:\n",
    "            if phase == 'train':\n",
    "                net.train()\n",
    "            else:\n",
    "                net.eval()\n",
    "\n",
    "            epoch_loss = 0.0  # epochの損失和\n",
    "            epoch_corrects = 0  # epochの正解数\n",
    "\n",
    "            if (epoch == 0) and (phase == 'train'):\n",
    "                continue\n",
    "            for inputs, labels in tqdm(dataloaders_dict[phase]):\n",
    "                optimizer.zero_grad()\n",
    "                with torch.set_grad_enabled(phase == 'train'):\n",
    "                    outputs = net(inputs)\n",
    "                    loss = criterion(outputs, labels)  # 損失を計算\n",
    "                    _, preds = torch.max(outputs, 1)  # ラベルを予測\n",
    "  \n",
    "                    if phase == 'train':\n",
    "                        loss.backward()\n",
    "                        optimizer.step()\n",
    "\n",
    "                    epoch_loss += loss.item() * inputs.size(0)  \n",
    "                    epoch_corrects += torch.sum(preds == labels.data)\n",
    "\n",
    "            epoch_loss = epoch_loss / len(dataloaders_dict[phase].dataset)\n",
    "            epoch_acc = epoch_corrects.double() / len(dataloaders_dict[phase].dataset)\n",
    "            print('{} Loss: {:.4f} Acc: {:.4f}'.format(phase, epoch_loss, epoch_acc))\n"
   ]
  },
  {
   "cell_type": "code",
   "execution_count": 15,
   "id": "cfdb0264-f46a-4ec5-8293-96b7487cf98a",
   "metadata": {},
   "outputs": [
    {
     "name": "stdout",
     "output_type": "stream",
     "text": [
      "Epoch 1/2\n",
      "-------------\n"
     ]
    },
    {
     "name": "stderr",
     "output_type": "stream",
     "text": [
      "100%|██████████████████████████████████████████████████████████████████████████████████████████████████████████████████████████████████████████████████████████████████████████████| 5/5 [00:16<00:00,  3.26s/it]\n"
     ]
    },
    {
     "name": "stdout",
     "output_type": "stream",
     "text": [
      "val Loss: 0.7702 Acc: 0.4444\n",
      "Epoch 2/2\n",
      "-------------\n"
     ]
    },
    {
     "name": "stderr",
     "output_type": "stream",
     "text": [
      "100%|██████████████████████████████████████████████████████████████████████████████████████████████████████████████████████████████████████████████████████████████████████████████| 8/8 [01:22<00:00, 10.31s/it]\n"
     ]
    },
    {
     "name": "stdout",
     "output_type": "stream",
     "text": [
      "train Loss: 0.5191 Acc: 0.7078\n"
     ]
    },
    {
     "name": "stderr",
     "output_type": "stream",
     "text": [
      "100%|██████████████████████████████████████████████████████████████████████████████████████████████████████████████████████████████████████████████████████████████████████████████| 5/5 [00:17<00:00,  3.45s/it]"
     ]
    },
    {
     "name": "stdout",
     "output_type": "stream",
     "text": [
      "val Loss: 0.1612 Acc: 0.9477\n"
     ]
    },
    {
     "name": "stderr",
     "output_type": "stream",
     "text": [
      "\n"
     ]
    }
   ],
   "source": [
    "# 学習・検証を実行する\n",
    "num_epochs=2\n",
    "train_model(net, dataloaders_dict, criterion, optimizer, num_epochs=num_epochs)"
   ]
  },
  {
   "cell_type": "markdown",
   "id": "44936279-f9c2-4eb5-9dfb-b8f343bf6292",
   "metadata": {},
   "source": [
    "### ネットワークの保存・ロード\n",
    "\n",
    "netオブジェクトの情報を辞書型に変換．専用のsave/load関数を使用する"
   ]
  },
  {
   "cell_type": "code",
   "execution_count": 17,
   "id": "93af8828-5c82-4c33-a84b-a1e243057ed8",
   "metadata": {},
   "outputs": [
    {
     "data": {
      "text/plain": [
       "odict_keys(['features.0.weight', 'features.0.bias', 'features.2.weight', 'features.2.bias', 'features.5.weight', 'features.5.bias', 'features.7.weight', 'features.7.bias', 'features.10.weight', 'features.10.bias', 'features.12.weight', 'features.12.bias', 'features.14.weight', 'features.14.bias', 'features.17.weight', 'features.17.bias', 'features.19.weight', 'features.19.bias', 'features.21.weight', 'features.21.bias', 'features.24.weight', 'features.24.bias', 'features.26.weight', 'features.26.bias', 'features.28.weight', 'features.28.bias', 'classifier.0.weight', 'classifier.0.bias', 'classifier.3.weight', 'classifier.3.bias', 'classifier.6.weight', 'classifier.6.bias'])"
      ]
     },
     "execution_count": 17,
     "metadata": {},
     "output_type": "execute_result"
    }
   ],
   "source": [
    "net.state_dict().keys()"
   ]
  },
  {
   "cell_type": "code",
   "execution_count": 18,
   "id": "d18a554a-de32-4e61-ad8a-e12247e7def9",
   "metadata": {},
   "outputs": [],
   "source": [
    "# PyTorchのネットワークパラメータの保存\n",
    "save_path = './weights_fine_tuning.pth'\n",
    "torch.save(net.state_dict(), save_path)"
   ]
  },
  {
   "cell_type": "code",
   "execution_count": 19,
   "id": "2a6e55b7-74a9-4b5c-ab35-342fbd9a7db3",
   "metadata": {},
   "outputs": [
    {
     "data": {
      "text/plain": [
       "<All keys matched successfully>"
      ]
     },
     "execution_count": 19,
     "metadata": {},
     "output_type": "execute_result"
    }
   ],
   "source": [
    "# PyTorchのネットワークパラメータのロード\n",
    "load_path = './weights_fine_tuning.pth'\n",
    "\n",
    "load_weights = torch.load(load_path)\n",
    "\n",
    "# GPU上で保存された重みをCPU上でロードする場合はオプションを追加\n",
    "# load_weights = torch.load(load_path, map_location={'cuda:0': 'cpu'})\n",
    "\n",
    "net.load_state_dict(load_weights)"
   ]
  },
  {
   "cell_type": "markdown",
   "id": "4bb281d8-22d2-4264-9d69-eebec257b64c",
   "metadata": {},
   "source": [
    "## GPU上で実行する場合\n",
    "\n",
    "学習時のコードを変更するだけでよい\n",
    "\n",
    "CPUとGPUどちらでも共通のコードを使用できる"
   ]
  },
  {
   "cell_type": "code",
   "execution_count": null,
   "id": "4a702293-81c1-4d20-b5d8-ccfb7c4e58f6",
   "metadata": {},
   "outputs": [],
   "source": [
    "def train_model(net, dataloaders_dict, criterion, optimizer, num_epochs):\n",
    "    # 初期設定\n",
    "    # GPUが使えるかを確認\n",
    "    device = torch.device(\"cuda:0\" if torch.cuda.is_available() else \"cpu\")\n",
    "    print(\"使用デバイス：\", device)\n",
    "    net.to(device)  # デバイスの設定\n",
    "\n",
    "    # ネットワークがある程度固定であれば、高速化させる\n",
    "    torch.backends.cudnn.benchmark = True\n",
    "\n",
    "    for epoch in range(num_epochs):\n",
    "        print('Epoch {}/{}'.format(epoch+1, num_epochs))\n",
    "        print('-------------')\n",
    "\n",
    "        for phase in ['train', 'val']:\n",
    "            if phase == 'train':\n",
    "                net.train()\n",
    "            else:\n",
    "                net.eval()\n",
    "\n",
    "            epoch_loss = 0.0  # epochの損失和\n",
    "            epoch_corrects = 0  # epochの正解数\n",
    "\n",
    "            if (epoch == 0) and (phase == 'train'):\n",
    "                continue\n",
    "            for inputs, labels in tqdm(dataloaders_dict[phase]):\n",
    "                # GPUが使えるならGPUにデータを送る (CPUなら何もしない？)\n",
    "                inputs = inputs.to(device)\n",
    "                labels = labels.to(device)\n",
    "\n",
    "                optimizer.zero_grad()\n",
    "                with torch.set_grad_enabled(phase == 'train'):\n",
    "                    outputs = net(inputs)\n",
    "                    loss = criterion(outputs, labels)  # 損失を計算\n",
    "                    _, preds = torch.max(outputs, 1)  # ラベルを予測\n",
    "  \n",
    "                    if phase == 'train':\n",
    "                        loss.backward()\n",
    "                        optimizer.step()\n",
    "\n",
    "                    epoch_loss += loss.item() * inputs.size(0)  \n",
    "                    epoch_corrects += torch.sum(preds == labels.data)\n",
    "\n",
    "            epoch_loss = epoch_loss / len(dataloaders_dict[phase].dataset)\n",
    "            epoch_acc = epoch_corrects.double() / len(dataloaders_dict[phase].dataset)\n",
    "            print('{} Loss: {:.4f} Acc: {:.4f}'.format(phase, epoch_loss, epoch_acc))\n"
   ]
  }
 ],
 "metadata": {
  "kernelspec": {
   "display_name": "Python 3 (ipykernel)",
   "language": "python",
   "name": "python3"
  },
  "language_info": {
   "codemirror_mode": {
    "name": "ipython",
    "version": 3
   },
   "file_extension": ".py",
   "mimetype": "text/x-python",
   "name": "python",
   "nbconvert_exporter": "python",
   "pygments_lexer": "ipython3",
   "version": "3.8.0"
  }
 },
 "nbformat": 4,
 "nbformat_minor": 5
}
